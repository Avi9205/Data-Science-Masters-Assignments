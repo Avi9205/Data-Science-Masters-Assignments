{
 "cells": [
  {
   "cell_type": "markdown",
   "id": "f600779d-7971-4424-9b4b-b54c4fc72bb4",
   "metadata": {},
   "source": [
    "#### Q1. Create a vehicle class with an init method having instance variables as name_of_vehicle, max_speed and average_of_vehicle."
   ]
  },
  {
   "cell_type": "markdown",
   "id": "833aeece-e0d1-491e-b858-d0be795e2e1e",
   "metadata": {},
   "source": [
    "Ans."
   ]
  },
  {
   "cell_type": "code",
   "execution_count": 2,
   "id": "01217869-ce3f-4255-b834-7e3f3d382d99",
   "metadata": {},
   "outputs": [],
   "source": [
    "class Vehicle:\n",
    "    def __init__(self, name_of_vehicle, max_speed, average_of_vehicle):\n",
    "        self.name_of_vehicle = name_of_vehicle\n",
    "        self.max_speed = max_speed\n",
    "        self.average_of_vehicle = average_of_vehicle"
   ]
  },
  {
   "cell_type": "code",
   "execution_count": 3,
   "id": "2deee658-dda0-4442-bbff-dd2ecc001d7d",
   "metadata": {},
   "outputs": [],
   "source": [
    "car = Vehicle(\"Toyota\", 200, 80)"
   ]
  },
  {
   "cell_type": "code",
   "execution_count": 4,
   "id": "12463c6f-7e9f-455b-9124-0b06eaa223f1",
   "metadata": {},
   "outputs": [
    {
     "data": {
      "text/plain": [
       "'Toyota'"
      ]
     },
     "execution_count": 4,
     "metadata": {},
     "output_type": "execute_result"
    }
   ],
   "source": [
    "car.name_of_vehicle"
   ]
  },
  {
   "cell_type": "code",
   "execution_count": 5,
   "id": "ac40a53c-733a-40ce-918a-d20dce8b1462",
   "metadata": {},
   "outputs": [
    {
     "data": {
      "text/plain": [
       "200"
      ]
     },
     "execution_count": 5,
     "metadata": {},
     "output_type": "execute_result"
    }
   ],
   "source": [
    "car.max_speed"
   ]
  },
  {
   "cell_type": "code",
   "execution_count": 6,
   "id": "d9a897db-cfc3-47ca-a3c4-7bc7b2129bd9",
   "metadata": {},
   "outputs": [
    {
     "data": {
      "text/plain": [
       "80"
      ]
     },
     "execution_count": 6,
     "metadata": {},
     "output_type": "execute_result"
    }
   ],
   "source": [
    "car.average_of_vehicle"
   ]
  },
  {
   "cell_type": "markdown",
   "id": "b92b96d7-a6ca-441a-9adb-e8a9337049e7",
   "metadata": {},
   "source": [
    "#### Q2. Create a child class car from the vehicle class created in Que 1, which will inherit the vehicle class. Create a method named seating_capacity which takes capacity as an argument and returns the name of the vehicle and its seating capacity."
   ]
  },
  {
   "cell_type": "markdown",
   "id": "0be785ae-2cf2-4c00-9037-0c76c679bd89",
   "metadata": {},
   "source": [
    "Ans."
   ]
  },
  {
   "cell_type": "code",
   "execution_count": 8,
   "id": "faf52c83-93e2-43b2-bfd5-5545024ce0d9",
   "metadata": {},
   "outputs": [],
   "source": [
    "class Car(Vehicle):\n",
    "    def seating_capacity(self, capacity):\n",
    "        return f\"{self.name_of_vehicle} has a seating capacity of {capacity} passengers.\""
   ]
  },
  {
   "cell_type": "code",
   "execution_count": 9,
   "id": "f2321985-3e60-4d5a-a9eb-6aea2094ab32",
   "metadata": {},
   "outputs": [
    {
     "name": "stdout",
     "output_type": "stream",
     "text": [
      "Toyota has a seating capacity of 5 passengers.\n"
     ]
    }
   ],
   "source": [
    "car = Car(\"Toyota\", 200, 80)\n",
    "print(car.seating_capacity(5))"
   ]
  },
  {
   "cell_type": "markdown",
   "id": "4cc9ee6c-0479-4af7-bdd8-617c84367b6e",
   "metadata": {},
   "source": [
    "#### Q3. What is multiple inheritance? Write a python code to demonstrate multiple inheritance."
   ]
  },
  {
   "cell_type": "markdown",
   "id": "fe531744-7518-415e-84f7-835922cfd491",
   "metadata": {},
   "source": [
    "Ans. Multiple inheritance is a feature in object-oriented programming that allows a subclass to inherit attributes and methods from multiple parent classes.\n",
    "In Python, multiple inheritance is implemented by specifying multiple parent classes in the class definition separated by commas.\n",
    "\n",
    "##### Here's an example code to demonstrate multiple inheritance in Python:"
   ]
  },
  {
   "cell_type": "code",
   "execution_count": 11,
   "id": "3bd0e80f-9876-47a1-a712-8fe1ec5178d3",
   "metadata": {},
   "outputs": [
    {
     "name": "stdout",
     "output_type": "stream",
     "text": [
      "Method A\n",
      "Method B\n",
      "Method C\n"
     ]
    }
   ],
   "source": [
    "class A:\n",
    "    def method_a(self):\n",
    "        print(\"Method A\")\n",
    "\n",
    "class B:\n",
    "    def method_b(self):\n",
    "        print(\"Method B\")\n",
    "\n",
    "class C(A, B):\n",
    "    def method_c(self):\n",
    "        print(\"Method C\")\n",
    "\n",
    "obj = C()\n",
    "\n",
    "obj.method_a()\n",
    "obj.method_b()\n",
    "obj.method_c()"
   ]
  },
  {
   "cell_type": "markdown",
   "id": "67c45202-90e8-4d2f-8446-d41fd4635afb",
   "metadata": {},
   "source": [
    "#### Q4. What are getter and setter in python? Create a class and create a getter and a setter method in this class."
   ]
  },
  {
   "cell_type": "markdown",
   "id": "4d1f7d60-ef16-44ad-b0c9-d7782fa6cb04",
   "metadata": {},
   "source": [
    "Ans. In Python, a getter is a method that is used to retrieve the value of an attribute of an object, and a setter is a method that is used to set the value of an attribute of an object.\n",
    "\n",
    "A getter method is usually named with the prefix 'get_', and a setter method is usually named with the prefix 'set_'.\n",
    "\n",
    "##### Here's an example of a class that has a getter and a setter method for an attribute named 'name':"
   ]
  },
  {
   "cell_type": "code",
   "execution_count": 15,
   "id": "3c07e9d3-a0ec-4c03-8513-347ba3a8ba66",
   "metadata": {},
   "outputs": [],
   "source": [
    "class Employee:\n",
    "    def __init__(self):\n",
    "        self._name = None\n",
    "\n",
    "    def get_name(self):\n",
    "        return self._name\n",
    "\n",
    "    def set_name(self, name):\n",
    "        self._name = name"
   ]
  },
  {
   "cell_type": "code",
   "execution_count": 16,
   "id": "8a2e45b3-4568-4532-929f-2ff77ea84668",
   "metadata": {},
   "outputs": [
    {
     "name": "stdout",
     "output_type": "stream",
     "text": [
      "Avinash\n"
     ]
    }
   ],
   "source": [
    "Employee = Employee()\n",
    "\n",
    "Employee.set_name(\"Avinash\")\n",
    "\n",
    "print(Employee.get_name())"
   ]
  },
  {
   "cell_type": "markdown",
   "id": "89e8061e-0f4f-46ce-b05b-4226a0c257a3",
   "metadata": {},
   "source": [
    "#### Q5.What is method overriding in python? Write a python code to demonstrate method overriding."
   ]
  },
  {
   "cell_type": "markdown",
   "id": "79afa1b9-243c-416f-a5c3-9d05d67a3cac",
   "metadata": {},
   "source": [
    "Ans. Method overriding is a feature of object-oriented programming that allows a subclass to provide a different implementation of a method that is already defined in its parent class.\n",
    "\n",
    "In Python, method overriding is achieved by defining a method in the subclass with the same name as the method in the parent class.\n",
    "\n",
    "##### Here's an example code to demonstrate method overriding in Python:"
   ]
  },
  {
   "cell_type": "code",
   "execution_count": 17,
   "id": "e378b0c0-3623-4378-a74d-aa18b545fa98",
   "metadata": {},
   "outputs": [
    {
     "name": "stdout",
     "output_type": "stream",
     "text": [
      "Bark\n"
     ]
    }
   ],
   "source": [
    "class Animal:\n",
    "    def make_sound(self):\n",
    "        print(\"Generic animal sound\")\n",
    "\n",
    "class Dog(Animal):\n",
    "    def make_sound(self):\n",
    "        print(\"Bark\")\n",
    "\n",
    "dog = Dog()\n",
    "dog.make_sound()"
   ]
  },
  {
   "cell_type": "code",
   "execution_count": null,
   "id": "71e80aa9-577d-4429-8ee9-52664d2cf77f",
   "metadata": {},
   "outputs": [],
   "source": []
  }
 ],
 "metadata": {
  "kernelspec": {
   "display_name": "Python 3 (ipykernel)",
   "language": "python",
   "name": "python3"
  },
  "language_info": {
   "codemirror_mode": {
    "name": "ipython",
    "version": 3
   },
   "file_extension": ".py",
   "mimetype": "text/x-python",
   "name": "python",
   "nbconvert_exporter": "python",
   "pygments_lexer": "ipython3",
   "version": "3.10.8"
  }
 },
 "nbformat": 4,
 "nbformat_minor": 5
}
