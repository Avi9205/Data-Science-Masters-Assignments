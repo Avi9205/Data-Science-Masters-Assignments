{
 "cells": [
  {
   "cell_type": "markdown",
   "id": "50827595-ab7d-4567-baf4-403f16b8c4e4",
   "metadata": {},
   "source": [
    "#### Q1. Which keyword is used to create a function? Create a function to return a list of odd numbers in the range of 1 to 25"
   ]
  },
  {
   "cell_type": "markdown",
   "id": "5e6ce419-0f96-47ee-9515-637d44c1ca7a",
   "metadata": {},
   "source": [
    "Ans. The keyword used to create a function in Python is \"def\". \n",
    "\n",
    "##### Here's an example function that returns a list of odd numbers in the range of 1 to 25:"
   ]
  },
  {
   "cell_type": "code",
   "execution_count": 1,
   "id": "afcf98e6-839c-4949-a81f-bd7cff90cb9d",
   "metadata": {},
   "outputs": [],
   "source": [
    "def get_odd_numbers():\n",
    "    odd_numbers = []\n",
    "    for i in range(1, 26):\n",
    "        if i % 2 == 1:\n",
    "            odd_numbers.append(i)\n",
    "    return odd_numbers"
   ]
  },
  {
   "cell_type": "code",
   "execution_count": 2,
   "id": "7849d2a3-abb8-4af8-b977-51c1b49d91e2",
   "metadata": {},
   "outputs": [
    {
     "data": {
      "text/plain": [
       "[1, 3, 5, 7, 9, 11, 13, 15, 17, 19, 21, 23, 25]"
      ]
     },
     "execution_count": 2,
     "metadata": {},
     "output_type": "execute_result"
    }
   ],
   "source": [
    "get_odd_numbers()"
   ]
  },
  {
   "cell_type": "markdown",
   "id": "614e7aa9-3601-48d6-a7d0-c291ea09657b",
   "metadata": {},
   "source": [
    "##### Q2. Why args and kwargs is used in some functions? Create a function each for args and **kwargs to demonstrate their use."
   ]
  },
  {
   "cell_type": "markdown",
   "id": "39dfbfaa-a39a-43ab-9ac3-ae9fd45f33cd",
   "metadata": {},
   "source": [
    "Ans. args and *kwargs are used in functions to accept a variable number of arguments.\n",
    "\n",
    "args allows a function to accept any number of positional arguments, which are then passed to the function as a tuple.\n",
    "\n",
    "##### Here's an example function that demonstrates the use of args:"
   ]
  },
  {
   "cell_type": "code",
   "execution_count": 3,
   "id": "3120d4d7-4ea0-45c8-8298-30e958ca4a7f",
   "metadata": {},
   "outputs": [],
   "source": [
    "def concatenate_strings(*args):\n",
    "    result = ''\n",
    "    for i in args:\n",
    "        result += i\n",
    "    return result"
   ]
  },
  {
   "cell_type": "code",
   "execution_count": 4,
   "id": "aea1f7e4-3667-4243-90b9-fd9c2ae8d4f8",
   "metadata": {},
   "outputs": [
    {
     "name": "stdout",
     "output_type": "stream",
     "text": [
      "Hello world!\n"
     ]
    }
   ],
   "source": [
    "print(concatenate_strings('Hello', ' ', 'world', '!'))"
   ]
  },
  {
   "cell_type": "markdown",
   "id": "e90b7a1f-0073-4249-a859-bb341f28f49f",
   "metadata": {},
   "source": [
    "kwargs allows a function to accept any number of keyword arguments, which are then passed to the function as a dictionary. \n",
    "\n",
    "##### Here's an example function that demonstrates the use of kwargs:"
   ]
  },
  {
   "cell_type": "code",
   "execution_count": 5,
   "id": "2849d78f-e303-4dee-b53d-c383dad0da2a",
   "metadata": {},
   "outputs": [],
   "source": [
    "def print_kwargs(**kwargs):\n",
    "    for key, value in kwargs.items():\n",
    "        print(f'{key}: {value}')"
   ]
  },
  {
   "cell_type": "code",
   "execution_count": 7,
   "id": "dad5d978-184e-40cb-8559-09891e7094a3",
   "metadata": {},
   "outputs": [
    {
     "name": "stdout",
     "output_type": "stream",
     "text": [
      "Name: Avinash\n",
      "Age: 22\n",
      "City: Delhi\n"
     ]
    }
   ],
   "source": [
    "print_kwargs(Name='Avinash', Age=22, City='Delhi')"
   ]
  },
  {
   "cell_type": "markdown",
   "id": "d4c0c581-fa93-4b9c-88e3-64c2af4aedc5",
   "metadata": {},
   "source": [
    "##### Q3. What is an iterator in python? Name the method used to initialise the iterator object and the method used for iteration. Use these methods to print the first five elements of the given list [2, 4, 6, 8, 10, 12, 14, 16, 18, 20]."
   ]
  },
  {
   "cell_type": "markdown",
   "id": "fcb9e0ac-8a7b-4b47-85a1-e8f929dd4515",
   "metadata": {},
   "source": [
    "Ans. An iterator is an object that can be iterated (looped) upon, returning one element at a time. It generates values on the go and does not store the values in memory. Iterators are used to iterate over sequences such as lists, tuples, and dictionaries.\n",
    "\n",
    "The 'iter()' method is used to initialize an iterator object, and the 'next()' method is used to iterate over the elements. \n",
    "\n",
    "##### Here's an example that demonstrates how to print the first five elements of the given list [2, 4, 6, 8, 10, 12, 14, 16, 18, 20] using an iterator:"
   ]
  },
  {
   "cell_type": "code",
   "execution_count": 8,
   "id": "de905247-f1e0-492e-b277-fa0dad2f7ecd",
   "metadata": {},
   "outputs": [
    {
     "name": "stdout",
     "output_type": "stream",
     "text": [
      "2\n",
      "4\n",
      "6\n",
      "8\n",
      "10\n"
     ]
    }
   ],
   "source": [
    "list1 = [2, 4, 6, 8, 10, 12, 14, 16, 18, 20]\n",
    "\n",
    "iterator = iter(list1)\n",
    "\n",
    "for i in range(5):\n",
    "    print(next(iterator))"
   ]
  },
  {
   "cell_type": "markdown",
   "id": "ba490dc1-7685-4a5e-bf70-bd52012cc646",
   "metadata": {},
   "source": [
    "#### Q4. What is a generator function in python? Why yield keyword is used? Give an example of a generator function."
   ]
  },
  {
   "cell_type": "markdown",
   "id": "9f107b1e-eeed-4a16-9882-75c4d987a926",
   "metadata": {},
   "source": [
    "Ans. A generator function is a special type of function that returns an iterator, which can be used to iterate over a sequence of values. The main difference between a regular function and a generator function is that a generator function uses the yield keyword to return values one at a time, instead of returning them all at once.\n",
    "\n",
    "The yield keyword is used in a generator function to yield a value to the caller, while preserving the state of the function. When a value is yielded, the function is paused, and the state of the function is saved. The next time the function is called, it resumes from where it left off, using the saved state to continue its execution.\n",
    "\n",
    "##### Here's an example of a generator function that generates a sequence of even numbers:"
   ]
  },
  {
   "cell_type": "code",
   "execution_count": 9,
   "id": "272c98fa-58c5-47bb-87c4-86345ed89eba",
   "metadata": {},
   "outputs": [],
   "source": [
    "def generate_even_numbers(n):\n",
    "    i = 0\n",
    "    while i < n:\n",
    "        yield i * 2\n",
    "        i += 1"
   ]
  },
  {
   "cell_type": "code",
   "execution_count": 10,
   "id": "96ca3a60-5b53-4a0c-93b1-f1d50de471f8",
   "metadata": {},
   "outputs": [
    {
     "name": "stdout",
     "output_type": "stream",
     "text": [
      "0\n",
      "2\n",
      "4\n",
      "6\n",
      "8\n"
     ]
    }
   ],
   "source": [
    "for num in generate_even_numbers(5):\n",
    "    print(num)"
   ]
  },
  {
   "cell_type": "markdown",
   "id": "60ed7b81-70ab-487c-88fd-7c6bf7671278",
   "metadata": {},
   "source": [
    "#### Q5. Create a generator function for prime numbers less than 1000. Use the next() method to print the first 20 prime numbers."
   ]
  },
  {
   "cell_type": "code",
   "execution_count": 11,
   "id": "26c4363a-b6e8-454a-b226-a56b20283223",
   "metadata": {},
   "outputs": [],
   "source": [
    "def gen_primes():\n",
    "    yield 2\n",
    "    primes = [2]\n",
    "    num = 3\n",
    "    while num < 1000:\n",
    "        is_prime = True\n",
    "        for prime in primes:\n",
    "            if prime > num ** 0.5:\n",
    "                break\n",
    "            if num % prime == 0:\n",
    "                is_prime = False\n",
    "                break\n",
    "        if is_prime:\n",
    "            primes.append(num)\n",
    "            yield num\n",
    "        num += 2"
   ]
  },
  {
   "cell_type": "code",
   "execution_count": 12,
   "id": "56c9bdf8-ef2a-4e69-a869-2a058d543b67",
   "metadata": {},
   "outputs": [
    {
     "name": "stdout",
     "output_type": "stream",
     "text": [
      "2\n",
      "3\n",
      "5\n",
      "7\n",
      "11\n",
      "13\n",
      "17\n",
      "19\n",
      "23\n",
      "29\n",
      "31\n",
      "37\n",
      "41\n",
      "43\n",
      "47\n",
      "53\n",
      "59\n",
      "61\n",
      "67\n",
      "71\n"
     ]
    }
   ],
   "source": [
    "gen = gen_primes()\n",
    "for i in range(20):\n",
    "    print(next(gen))"
   ]
  },
  {
   "cell_type": "code",
   "execution_count": null,
   "id": "b889949a-fc97-475b-a823-89f6f797aa59",
   "metadata": {},
   "outputs": [],
   "source": []
  }
 ],
 "metadata": {
  "kernelspec": {
   "display_name": "Python 3 (ipykernel)",
   "language": "python",
   "name": "python3"
  },
  "language_info": {
   "codemirror_mode": {
    "name": "ipython",
    "version": 3
   },
   "file_extension": ".py",
   "mimetype": "text/x-python",
   "name": "python",
   "nbconvert_exporter": "python",
   "pygments_lexer": "ipython3",
   "version": "3.10.8"
  }
 },
 "nbformat": 4,
 "nbformat_minor": 5
}
