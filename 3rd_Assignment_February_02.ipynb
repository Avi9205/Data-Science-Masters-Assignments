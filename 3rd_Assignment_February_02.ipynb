{
 "cells": [
  {
   "cell_type": "markdown",
   "id": "0ad42add-2d22-4638-b3cd-629f576bdf79",
   "metadata": {},
   "source": [
    "#### Q1. What are the characteristics of the tuples? Is tuple immutable?"
   ]
  },
  {
   "cell_type": "markdown",
   "id": "b152a800-6c2f-45b0-a94e-5cf796f9b959",
   "metadata": {},
   "source": [
    "Ans. A tuple is an ordered, immutable, and collection of elements of any type. Here are some of the characteristics of tuples in Python:\n",
    "- Ordered: The elements in a tuple have a specific order, and the order is maintained.\n",
    "\n",
    "- Immutable: Once a tuple is created, the elements cannot be modified or changed. This makes tuples useful for representing data that should not change, such as dates, coordinate points, etc.\n",
    "\n",
    "- Collection of elements: Tuples can contain elements of any type, including other tuples, making them a versatile data structure.\n",
    "\n",
    "- Indexable: The elements in a tuple can be accessed by their index, just like a list.\n",
    "\n",
    "- Heterogeneous: The elements in a tuple can be of different data types, unlike lists that can only contain elements of the same data type.\n",
    "\n",
    "Yes, tuples are immutable. They are similar to lists in many ways, but unlike lists, you cannot modify the elements of a tuple after they have been created."
   ]
  },
  {
   "cell_type": "markdown",
   "id": "38ef8868-f5f6-413e-843d-f35fc095cc6a",
   "metadata": {},
   "source": [
    "#### Q2. What are the two tuple methods in python? Give an example of each method and give a reason why tuples have only two in-built methods as compared to Lists."
   ]
  },
  {
   "cell_type": "markdown",
   "id": "eaa4e194-0523-4c9f-b347-896d81e448a9",
   "metadata": {},
   "source": [
    "Ans. Tuples have two in-built methods in Python:\n",
    "\n",
    "- count() method: This method returns the number of times a specific element appears in a tuple.\n",
    "\n",
    "##### Example:"
   ]
  },
  {
   "cell_type": "code",
   "execution_count": 5,
   "id": "b0bfd421-0f3f-470e-b3c5-c22dbc5336ce",
   "metadata": {},
   "outputs": [
    {
     "name": "stdout",
     "output_type": "stream",
     "text": [
      "The number 3 appears 2 times in the tuple.\n"
     ]
    }
   ],
   "source": [
    "# define a tuple\n",
    "numbers = (1, 2, 3, 4, 5, 1, 2, 3)\n",
    "\n",
    "# count the number of times the number 2 appears\n",
    "count = numbers.count(3)\n",
    "print(\"The number 3 appears\", count, \"times in the tuple.\")"
   ]
  },
  {
   "cell_type": "markdown",
   "id": "eb3f117d-d3a8-4089-ba9e-18639cbfe54f",
   "metadata": {},
   "source": [
    "##### index() method: This method returns the index of the first occurrence of a specific element in a tuple.\n",
    "##### Example:"
   ]
  },
  {
   "cell_type": "code",
   "execution_count": 6,
   "id": "b0c720b5-6127-4886-8cfe-7d29a618cf32",
   "metadata": {},
   "outputs": [
    {
     "name": "stdout",
     "output_type": "stream",
     "text": [
      "The first occurrence of the word 'apple' is at index 0 in the tuple.\n"
     ]
    }
   ],
   "source": [
    "# define a tuple\n",
    "fruits = (\"apple\", \"banana\", \"cherry\", \"apple\")\n",
    "\n",
    "# find the index of the first occurrence of the word \"apple\"\n",
    "index = fruits.index(\"apple\")\n",
    "print(\"The first occurrence of the word 'apple' is at index\", index, \"in the tuple.\")"
   ]
  },
  {
   "cell_type": "markdown",
   "id": "efac336e-df7a-48f3-8aec-19d7fa7c93ee",
   "metadata": {},
   "source": [
    "Tuples have only two in-built methods as compared to lists because they are meant to be used as a collection of immutable values. Lists, on the other hand, are meant to be used as collections of mutable values, and thus have more methods available to modify and manipulate the elements. The two methods available for tuples are enough for their intended purpose, which is to provide an ordered collection of elements that cannot be changed."
   ]
  },
  {
   "cell_type": "markdown",
   "id": "f5479c7a-0f42-4d29-867d-b2ec188d22d9",
   "metadata": {},
   "source": [
    "#### Q3. Which collection datatypes in python do not allow duplicate items? Write a code using a set to remove duplicates from the given list.\n",
    "List = [1, 1, 1, 2, 1, 3, 1, 4, 2, 1, 2, 2, 2, 3, 2, 4, 3, 1, 3, 2, 3, 3, 3, 4, 4, 1, 4, 2, 4, 3, 4, 4]"
   ]
  },
  {
   "cell_type": "markdown",
   "id": "278f1733-4430-4643-b196-6d5d3832aa68",
   "metadata": {},
   "source": [
    "Ans. Sets in Python do not allow duplicate items. You can use a set to remove duplicates from a list by converting the list into a set and then back into a list. The set will automatically remove all duplicates, and then you can convert it back into a list to get a new list without duplicates.\n",
    "\n",
    "##### Example:"
   ]
  },
  {
   "cell_type": "code",
   "execution_count": 7,
   "id": "2362c2ff-ef5d-4a32-a12f-1a610440dda3",
   "metadata": {},
   "outputs": [
    {
     "name": "stdout",
     "output_type": "stream",
     "text": [
      "List without duplicates: [1, 2, 3, 4]\n"
     ]
    }
   ],
   "source": [
    "List = [1, 1, 1, 2, 1, 3, 1, 4, 2, 1, 2, 2, 2, 3, 2, 4, 3, 1, 3, 2, 3, 3, 3, 4, 4, 1, 4, 2, 4, 3, 4, 4]\n",
    "\n",
    "# convert the list into a set\n",
    "no_duplicates = set(List)\n",
    "\n",
    "# convert the set back into a list\n",
    "no_duplicates = list(no_duplicates)\n",
    "\n",
    "print(\"List without duplicates:\", no_duplicates)"
   ]
  },
  {
   "cell_type": "markdown",
   "id": "28f7092b-19cb-420d-9120-53f53385f718",
   "metadata": {},
   "source": [
    "#### Q4. Explain the difference between the union() and update() methods for a set. Give an example of each method."
   ]
  },
  {
   "cell_type": "markdown",
   "id": "c1bb2e84-bf69-4990-82fb-60817f971045",
   "metadata": {},
   "source": [
    "Ans. The union() and update() methods are used to merge two sets in Python. However, there is a difference between the two methods.\n",
    "The union() method returns a set that contains all the elements from both the sets being merged, but it does not modify either of the sets.\n",
    "\n",
    "##### Here is an example:"
   ]
  },
  {
   "cell_type": "code",
   "execution_count": 8,
   "id": "41e8340c-ce87-460b-b718-292aef8b24df",
   "metadata": {},
   "outputs": [
    {
     "name": "stdout",
     "output_type": "stream",
     "text": [
      "Union of set1 and set2: {1, 2, 3, 4, 5, 6}\n"
     ]
    }
   ],
   "source": [
    "set1 = {1, 2, 3, 4}\n",
    "set2 = {3, 4, 5, 6}\n",
    "\n",
    "# union of set1 and set2\n",
    "result = set1.union(set2)\n",
    "\n",
    "print(\"Union of set1 and set2:\", result)"
   ]
  },
  {
   "cell_type": "markdown",
   "id": "3ed4bc9a-302a-4a87-a5d9-0744de134325",
   "metadata": {},
   "source": [
    "##### On the other hand, the update() method merges the elements from one set into another set, and the original set is modified. Here is an example:"
   ]
  },
  {
   "cell_type": "code",
   "execution_count": 9,
   "id": "79b21ac7-64e4-490d-ad31-f12cf6daad42",
   "metadata": {},
   "outputs": [
    {
     "name": "stdout",
     "output_type": "stream",
     "text": [
      "set1 after update: {1, 2, 3, 4, 5, 6}\n"
     ]
    }
   ],
   "source": [
    "set1 = {1, 2, 3, 4}\n",
    "set2 = {3, 4, 5, 6}\n",
    "\n",
    "# update set1 with elements of set2\n",
    "set1.update(set2)\n",
    "\n",
    "print(\"set1 after update:\", set1)"
   ]
  },
  {
   "cell_type": "markdown",
   "id": "2c99b3a8-980e-4a98-af90-8a3736782ec4",
   "metadata": {},
   "source": [
    "So, the key difference between the two methods is that the union() method returns a new set with the merged elements, whereas the update() method updates the original set with the elements from another set."
   ]
  },
  {
   "cell_type": "markdown",
   "id": "6c67e8f7-94ef-445a-9e4f-e8e1cfffde29",
   "metadata": {},
   "source": [
    "#### Q5. What is a dictionary? Give an example. Also, state whether a dictionary is ordered or unordered."
   ]
  },
  {
   "cell_type": "markdown",
   "id": "8cb35358-02f9-4fd9-825d-2540640bbf45",
   "metadata": {},
   "source": [
    "Ans. A dictionary is a collection data type in Python that is used to store key-value pairs. In a dictionary, each key maps to a value. The keys and values can be of any data type, including integers, strings, lists, etc.\n",
    "\n",
    "##### Here is an example of a dictionary:"
   ]
  },
  {
   "cell_type": "code",
   "execution_count": 10,
   "id": "9e86af90-7e33-412e-9382-22a8646f0ca0",
   "metadata": {},
   "outputs": [],
   "source": [
    "employee = {'Name': 'Anjali', 'Age': 28, 'Designation': 'Quality Control Analyst'}"
   ]
  },
  {
   "cell_type": "markdown",
   "id": "5df41f3f-eea3-49fc-b1e7-fa241d4a8b55",
   "metadata": {},
   "source": [
    "In this example, the keys 'Name', 'Age', and 'Designation' map to the values 'Anjali', '28', and 'Quality Control Analyst', respectively.\n",
    "\n",
    "Dictionaries in Python are unordered. This means that the elements in a dictionary are not stored in a specific order. When you retrieve elements from a dictionary, they may not be returned in the same order as they were added."
   ]
  },
  {
   "cell_type": "markdown",
   "id": "377dd4e9-40bd-46df-98fd-db385495c63f",
   "metadata": {},
   "source": [
    "#### Q6. Can we create a nested dictionary? If so, please give an example by creating a simple one-level nested dictionary."
   ]
  },
  {
   "cell_type": "markdown",
   "id": "8de0cf07-0a40-46ca-ab98-cdebd0bcbdb9",
   "metadata": {},
   "source": [
    "Ans. Yes, you can create a nested dictionary in Python. A nested dictionary is a dictionary that contains another dictionary as its value.\n",
    "\n",
    "##### Here is an example of a one-level nested dictionary:"
   ]
  },
  {
   "cell_type": "code",
   "execution_count": 11,
   "id": "139944d9-7110-4f67-8706-1f657a734e1a",
   "metadata": {},
   "outputs": [],
   "source": [
    "employee = {'Anjali': {'Age': 28, 'Designation': 'Quality Control Analyst'},\n",
    "            'Sam': {'Age': 30, 'Designation': 'Senior Accounts Receivable'},\n",
    "            'Anish': {'Age': 26, 'Designation': 'Quality Analyst'}}"
   ]
  },
  {
   "cell_type": "markdown",
   "id": "d752fc97-7c92-4cae-b345-57888e63cb00",
   "metadata": {},
   "source": [
    "In this example, the main dictionary employee has three keys, 'Anjali', 'Sam', and 'Anish', that map to three separate dictionaries. Each of these dictionaries contains two key-value pairs that store the age and designation of an employee."
   ]
  },
  {
   "cell_type": "markdown",
   "id": "5bc51e1b-c444-4905-a833-83240c25f4e3",
   "metadata": {},
   "source": [
    "#### Q7. Using setdefault() method, create key named topics in the given dictionary and also add the value of the key as this list ['Python', 'Machine Learning’, 'Deep Learning']"
   ]
  },
  {
   "cell_type": "markdown",
   "id": "8b760e21-ac0f-4585-b56d-2c5fc54fdfa4",
   "metadata": {},
   "source": [
    "Ans. dict1 = {'language' : 'Python', 'course': 'Data Science Masters'}\n",
    "Using the setdefault() method to add a key named 'topics' with the value ['Python', 'Machine Learning', 'Deep Learning'] to the dictionary dict1:"
   ]
  },
  {
   "cell_type": "code",
   "execution_count": 12,
   "id": "6811722b-4b11-4731-b23b-e6d6e4b71a9a",
   "metadata": {},
   "outputs": [
    {
     "name": "stdout",
     "output_type": "stream",
     "text": [
      "{'language': 'Python', 'course': 'Data Science Masters', 'topics': ['Python', 'Machine Learning', 'Deep Learning']}\n"
     ]
    }
   ],
   "source": [
    "dict1 = {'language' : 'Python', 'course': 'Data Science Masters'}\n",
    "\n",
    "dict1.setdefault('topics', ['Python', 'Machine Learning', 'Deep Learning'])\n",
    "\n",
    "print(dict1)"
   ]
  },
  {
   "cell_type": "markdown",
   "id": "4661d1c3-41b7-48ad-9367-10dea0acab9d",
   "metadata": {},
   "source": [
    "#### Q8. What are the three view objects in dictionaries? Use the three in-built methods in python to display these three view objects for the given dictionary.\n",
    "dict1 = {'Sport': 'Cricket' , 'Teams': ['India', 'Australia', 'England', 'South Africa', 'Sri Lanka', 'New Zealand']}"
   ]
  },
  {
   "cell_type": "markdown",
   "id": "ec1bd3b8-3c57-4004-b959-914b4ff20f4a",
   "metadata": {},
   "source": [
    "Ans. The three view objects in dictionaries are: keys(), values(), and items(). To display these three view objects, we can use the following in-built methods:"
   ]
  },
  {
   "cell_type": "code",
   "execution_count": 13,
   "id": "496ce9e3-695d-4e15-8e89-fd0c71c072f2",
   "metadata": {},
   "outputs": [
    {
     "name": "stdout",
     "output_type": "stream",
     "text": [
      "keys: dict_keys(['Sport', 'Teams'])\n",
      "values: dict_values(['Cricket', ['India', 'Australia', 'England', 'South Africa', 'Sri Lanka', 'New Zealand']])\n",
      "items: dict_items([('Sport', 'Cricket'), ('Teams', ['India', 'Australia', 'England', 'South Africa', 'Sri Lanka', 'New Zealand'])])\n"
     ]
    }
   ],
   "source": [
    "dict1 = {'Sport': 'Cricket' , 'Teams': ['India', 'Australia', 'England', 'South Africa', 'Sri Lanka', 'New Zealand']}\n",
    "\n",
    "# display keys\n",
    "print(\"keys:\", dict1.keys())\n",
    "\n",
    "# display values\n",
    "print(\"values:\", dict1.values())\n",
    "\n",
    "# display items\n",
    "print(\"items:\", dict1.items())"
   ]
  },
  {
   "cell_type": "code",
   "execution_count": null,
   "id": "b2bd1583-4ab8-4fda-93da-321ebd93eb44",
   "metadata": {},
   "outputs": [],
   "source": []
  },
  {
   "cell_type": "code",
   "execution_count": null,
   "id": "890b7e7d-b63a-4884-8bba-989e5b5b61a5",
   "metadata": {},
   "outputs": [],
   "source": []
  },
  {
   "cell_type": "code",
   "execution_count": null,
   "id": "fd7f920b-1aec-4b63-afec-3dc125d3f09b",
   "metadata": {},
   "outputs": [],
   "source": []
  },
  {
   "cell_type": "code",
   "execution_count": null,
   "id": "e83bf94c-1b32-417e-b7c9-0aaa34a929bb",
   "metadata": {},
   "outputs": [],
   "source": []
  },
  {
   "cell_type": "code",
   "execution_count": null,
   "id": "77b43a5a-6e8f-4cc1-aab1-5ad5cd0f02c7",
   "metadata": {},
   "outputs": [],
   "source": []
  },
  {
   "cell_type": "code",
   "execution_count": null,
   "id": "72c67a30-bcf7-4842-a344-02cd83e6f53e",
   "metadata": {},
   "outputs": [],
   "source": []
  },
  {
   "cell_type": "code",
   "execution_count": null,
   "id": "9cd6fe11-fc9a-4d3d-938a-9ec0dc8186c3",
   "metadata": {},
   "outputs": [],
   "source": []
  }
 ],
 "metadata": {
  "kernelspec": {
   "display_name": "Python 3 (ipykernel)",
   "language": "python",
   "name": "python3"
  },
  "language_info": {
   "codemirror_mode": {
    "name": "ipython",
    "version": 3
   },
   "file_extension": ".py",
   "mimetype": "text/x-python",
   "name": "python",
   "nbconvert_exporter": "python",
   "pygments_lexer": "ipython3",
   "version": "3.10.8"
  }
 },
 "nbformat": 4,
 "nbformat_minor": 5
}
