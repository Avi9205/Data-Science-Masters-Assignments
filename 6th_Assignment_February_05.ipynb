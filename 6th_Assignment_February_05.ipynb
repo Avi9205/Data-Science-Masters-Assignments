{
 "cells": [
  {
   "cell_type": "markdown",
   "id": "780b5600-9b67-41db-96be-5a4433bda175",
   "metadata": {},
   "source": [
    "#### Q1. Explain Class and Object with respect to Object-Oriented Programming. Give a suitable example."
   ]
  },
  {
   "cell_type": "markdown",
   "id": "6348cd77-b973-43a3-b341-daab0bd27c43",
   "metadata": {},
   "source": [
    "Ans. In object-oriented programming (OOP), a class is a blueprint or template for creating objects, while an object is an instance of a class. A class defines the properties and methods that all objects created from it will have, while an object is a specific instance of a class that has its own unique values for the properties defined in the class.\n",
    "\n",
    "##### Here is an example to illustrate the concepts of class and object in Python:"
   ]
  },
  {
   "cell_type": "code",
   "execution_count": 1,
   "id": "bbd05fb8-b8a4-4c6c-a5c2-5bc58f52b51b",
   "metadata": {},
   "outputs": [],
   "source": [
    "class Car:\n",
    "    def __init__(self, make, model, year):\n",
    "        self.make = make\n",
    "        self.model = model\n",
    "        self.year = year\n",
    "\n",
    "    def get_info(self):\n",
    "        return f\"{self.year} {self.make} {self.model}\""
   ]
  },
  {
   "cell_type": "code",
   "execution_count": 2,
   "id": "a0d56aef-e7d3-467a-afcf-5276bfcfe49a",
   "metadata": {},
   "outputs": [],
   "source": [
    "car1 = Car(\"Hyundai\", \"Creta\", 2023)"
   ]
  },
  {
   "cell_type": "code",
   "execution_count": 3,
   "id": "4263e830-2b72-4eff-a2c1-b1f71769c491",
   "metadata": {},
   "outputs": [
    {
     "name": "stdout",
     "output_type": "stream",
     "text": [
      "Hyundai\n",
      "2023 Hyundai Creta\n"
     ]
    }
   ],
   "source": [
    "print(car1.make)\n",
    "print(car1.get_info())"
   ]
  },
  {
   "cell_type": "markdown",
   "id": "cbcc93c8-ff31-4c68-916d-c90fe34ee5c5",
   "metadata": {},
   "source": [
    "#### Q2. Name the four pillars of OOPs."
   ]
  },
  {
   "cell_type": "markdown",
   "id": "bf361edf-7a94-4dce-acba-73eee0e80f20",
   "metadata": {},
   "source": [
    "Ans. The four pillars of Object-Oriented Programming (OOP) are:\n",
    "\n",
    "- Encapsulation: Encapsulation is the technique of making the fields and methods of a class private, so that they cannot be accessed directly from outside the class. Encapsulation allows for better control of the data and logic in the class, and helps to prevent unwanted interference from other parts of the program.\n",
    "\n",
    "- Abstraction: Abstraction is the process of hiding the implementation details of a class and exposing only the essential features to the user. Abstraction helps to simplify the programming interface, making it easier to use and less prone to errors.\n",
    "\n",
    "- Inheritance: Inheritance is the mechanism by which one class can derive properties and behaviors from another class. Inheritance promotes code reuse, reduces redundancy, and makes the code more modular and scalable.\n",
    "\n",
    "- Polymorphism: Polymorphism is the ability of objects to take on many forms, depending on the context in which they are used. Polymorphism allows for the creation of code that can work with objects of different types, making the code more flexible and adaptable to changing requirements."
   ]
  },
  {
   "cell_type": "markdown",
   "id": "492a7125-1230-4c65-a364-b288f4a4b768",
   "metadata": {},
   "source": [
    "#### Q3. Explain why the init() function is used. Give a suitable example."
   ]
  },
  {
   "cell_type": "markdown",
   "id": "8220deab-7dda-470c-92c0-c2941f1f4a38",
   "metadata": {},
   "source": [
    "Ans. The '__init__()' method is a special method in Python that is used to initialize the instance variables of an object. This method is called automatically when an object is created from a class, and it is typically used to set the initial state of the object.\n",
    "\n",
    "##### Here is an example to illustrate the use of the '__init__()' method:"
   ]
  },
  {
   "cell_type": "code",
   "execution_count": 5,
   "id": "42275d30-361f-48ad-833f-bc2b5a5c5207",
   "metadata": {},
   "outputs": [
    {
     "name": "stdout",
     "output_type": "stream",
     "text": [
      "Hello, my name is Avinash and I'm 22 years old.\n"
     ]
    }
   ],
   "source": [
    "class Employee:\n",
    "    def __init__(self, name, age):\n",
    "        self.name = name\n",
    "        self.age = age\n",
    "\n",
    "    def intro(self):\n",
    "        print(f\"Hello, my name is {self.name} and I'm {self.age} years old.\")\n",
    "\n",
    "Employee1 = Employee(\"Avinash\", 22)\n",
    "Employee1.intro()"
   ]
  },
  {
   "cell_type": "markdown",
   "id": "23fc14c2-f8d5-4348-b1b5-c9484871c007",
   "metadata": {},
   "source": [
    "#### Q4. Why self is used in OOPs?"
   ]
  },
  {
   "cell_type": "markdown",
   "id": "caf747e7-7ada-4b88-a09b-0373d978584e",
   "metadata": {},
   "source": [
    "Ans. \"self\" is a reference to the instance of a class that a method is being called on. It is used to access the attributes and methods of the current object within the class definition.\n",
    "\n",
    "When a method is called on an instance of a class, the instance is passed as the first argument to the method automatically, and this first argument is conventionally named \"self\" (though it can technically be named anything). The \"self\" reference allows the method to operate on the attributes and methods of the specific instance of the class."
   ]
  },
  {
   "cell_type": "markdown",
   "id": "b5d9f7d0-91d3-4076-8e88-c71db0ef92c3",
   "metadata": {},
   "source": [
    "#### Q5. What is inheritance? Give an example for each type of inheritance."
   ]
  },
  {
   "cell_type": "markdown",
   "id": "f317d96d-21ae-43bd-9adb-be5bdcb1c9fe",
   "metadata": {},
   "source": [
    "Ans. Inheritance is a fundamental concept in object-oriented programming (OOP) that allows a new class to be based on an existing class, inheriting its attributes and methods. The new class is known as the \"subclass\" or \"derived class,\" and the existing class is known as the \"base class\" or \"superclass.\" Inheritance helps to reuse code, make the code more modular and flexible, and reduce code duplication."
   ]
  },
  {
   "cell_type": "markdown",
   "id": "9019109c-5870-4bcd-abb8-c8d5b619a006",
   "metadata": {},
   "source": [
    "##### There are four types of inheritance in OOP:"
   ]
  },
  {
   "cell_type": "markdown",
   "id": "6d79ca82-8b98-4a2b-bbb3-15166ba9cc07",
   "metadata": {},
   "source": [
    "- Single inheritance is a type of inheritance in object-oriented programming (OOP) where a subclass is derived from a single parent or base class. The subclass inherits all the attributes and methods of the base class and can add its own unique attributes and methods as well. Single inheritance is the simplest and most common form of inheritance.\n",
    "\n",
    "##### Here's an example of single inheritance:"
   ]
  },
  {
   "cell_type": "code",
   "execution_count": 6,
   "id": "8c809a71-0569-4235-9401-512e9040497b",
   "metadata": {},
   "outputs": [
    {
     "name": "stdout",
     "output_type": "stream",
     "text": [
      "Buddy\n",
      "3\n",
      "Golden Retriever\n",
      "The dog barks.\n"
     ]
    }
   ],
   "source": [
    "class Animal:\n",
    "    def __init__(self, name, age):\n",
    "        self.name = name\n",
    "        self.age = age\n",
    "\n",
    "    def make_sound(self):\n",
    "        print(\"The animal makes a sound.\")\n",
    "\n",
    "class Dog(Animal):\n",
    "    def __init__(self, name, age, breed):\n",
    "        super().__init__(name, age)\n",
    "        self.breed = breed\n",
    "\n",
    "    def make_sound(self):\n",
    "        print(\"The dog barks.\")\n",
    "\n",
    "dog = Dog(\"Buddy\", 3, \"Golden Retriever\")\n",
    "print(dog.name)\n",
    "print(dog.age)\n",
    "print(dog.breed)\n",
    "dog.make_sound()"
   ]
  },
  {
   "cell_type": "markdown",
   "id": "158991b4-3eee-43bc-9f19-395901fdfb1d",
   "metadata": {},
   "source": [
    "- Multiple inheritance is a type of inheritance in object-oriented programming (OOP) where a subclass is derived from more than one base class. The subclass inherits all the attributes and methods of all the base classes, and it can also add its own unique attributes and methods.\n",
    "\n",
    "##### Here's an example of multiple inheritance:"
   ]
  },
  {
   "cell_type": "code",
   "execution_count": 7,
   "id": "18326493-4955-4f12-8573-caeb84e54d13",
   "metadata": {},
   "outputs": [
    {
     "name": "stdout",
     "output_type": "stream",
     "text": [
      "Vehicle is moving\n",
      "Playing music on frequency 101.1\n",
      "Honk honk!\n",
      "60\n",
      "Sedan\n"
     ]
    }
   ],
   "source": [
    "class Vehicle:\n",
    "    def __init__(self, speed):\n",
    "        self.speed = speed\n",
    "\n",
    "    def move(self):\n",
    "        print(\"Vehicle is moving\")\n",
    "\n",
    "class Radio:\n",
    "    def __init__(self, frequency):\n",
    "        self.frequency = frequency\n",
    "\n",
    "    def play_music(self):\n",
    "        print(\"Playing music on frequency\", self.frequency)\n",
    "\n",
    "class Car(Vehicle, Radio):\n",
    "    def __init__(self, speed, frequency, model):\n",
    "        Vehicle.__init__(self, speed)\n",
    "        Radio.__init__(self, frequency)\n",
    "        self.model = model\n",
    "\n",
    "    def honk(self):\n",
    "        print(\"Honk honk!\")\n",
    "\n",
    "car = Car(60, 101.1, \"Sedan\")\n",
    "car.move()\n",
    "car.play_music()\n",
    "car.honk()\n",
    "print(car.speed)\n",
    "print(car.model)"
   ]
  },
  {
   "cell_type": "markdown",
   "id": "f52860ca-6536-40a8-99fd-46a5b2663754",
   "metadata": {},
   "source": [
    "- Hierarchical inheritance is a type of inheritance in object-oriented programming (OOP) where a single parent class has multiple child classes that inherit from it. Each child class inherits all the attributes and methods of the parent class, but can also have its own unique attributes and methods.\n",
    "\n",
    "##### Here's an example of hierarchical inheritance:"
   ]
  },
  {
   "cell_type": "code",
   "execution_count": 8,
   "id": "13ed5ad5-732b-415f-a350-b305eeca881e",
   "metadata": {},
   "outputs": [
    {
     "name": "stdout",
     "output_type": "stream",
     "text": [
      "Circle area: 78.5\n",
      "Square area: 16\n",
      "Rectangle area: 15\n"
     ]
    }
   ],
   "source": [
    "class Shape:\n",
    "    def __init__(self, name):\n",
    "        self.name = name\n",
    "\n",
    "    def area(self):\n",
    "        pass\n",
    "\n",
    "class Circle(Shape):\n",
    "    def __init__(self, name, radius):\n",
    "        super().__init__(name)\n",
    "        self.radius = radius\n",
    "\n",
    "    def area(self):\n",
    "        return 3.14 * self.radius * self.radius\n",
    "\n",
    "class Square(Shape):\n",
    "    def __init__(self, name, side):\n",
    "        super().__init__(name)\n",
    "        self.side = side\n",
    "\n",
    "    def area(self):\n",
    "        return self.side * self.side\n",
    "\n",
    "class Rectangle(Shape):\n",
    "    def __init__(self, name, length, breadth):\n",
    "        super().__init__(name)\n",
    "        self.length = length\n",
    "        self.breadth = breadth\n",
    "\n",
    "    def area(self):\n",
    "        return self.length * self.breadth\n",
    "\n",
    "circle = Circle(\"Circle\", 5)\n",
    "square = Square(\"Square\", 4)\n",
    "rectangle = Rectangle(\"Rectangle\", 3, 5)\n",
    "\n",
    "print(circle.name, \"area:\", circle.area())\n",
    "print(square.name, \"area:\", square.area())\n",
    "print(rectangle.name, \"area:\", rectangle.area())"
   ]
  },
  {
   "cell_type": "markdown",
   "id": "9dd1359b-a8f3-4a04-bbf2-ca008688a6a2",
   "metadata": {},
   "source": [
    "- Multilevel inheritance is a type of inheritance in object-oriented programming where a subclass is derived from a base class, and then another subclass is derived from the derived class. This creates a chain of inheritance where a subclass inherits from a parent class, which in turn inherits from another parent class.\n",
    "\n",
    "##### Here's an example of multilevel inheritance:"
   ]
  },
  {
   "cell_type": "code",
   "execution_count": 9,
   "id": "bb2321a0-2223-4936-8070-f4adfa700d3e",
   "metadata": {},
   "outputs": [
    {
     "name": "stdout",
     "output_type": "stream",
     "text": [
      "Max is eating.\n",
      "Max is barking.\n",
      "Max is guarding.\n"
     ]
    }
   ],
   "source": [
    "class Animal:\n",
    "    def __init__(self, name):\n",
    "        self.name = name\n",
    "\n",
    "    def eat(self):\n",
    "        print(self.name, \"is eating.\")\n",
    "\n",
    "class Dog(Animal):\n",
    "    def __init__(self, name, breed):\n",
    "        super().__init__(name)\n",
    "        self.breed = breed\n",
    "\n",
    "    def bark(self):\n",
    "        print(self.name, \"is barking.\")\n",
    "\n",
    "class GermanShepherd(Dog):\n",
    "    def __init__(self, name, breed, color):\n",
    "        super().__init__(name, breed)\n",
    "        self.color = color\n",
    "\n",
    "    def guard(self):\n",
    "        print(self.name, \"is guarding.\")\n",
    "\n",
    "gs = GermanShepherd(\"Max\", \"German Shepherd\", \"Brown\")\n",
    "gs.eat()\n",
    "gs.bark()\n",
    "gs.guard()"
   ]
  },
  {
   "cell_type": "markdown",
   "id": "3d271eae-82cc-4d92-a29e-d1596b1454f0",
   "metadata": {},
   "source": [
    "- Hybrid inheritance is a combination of multiple types of inheritance, such as single inheritance, multiple inheritance, and multilevel inheritance. In hybrid inheritance, a subclass may inherit from multiple base classes using both single and multiple inheritance. This allows for more complex and flexible class hierarchies.\n",
    "\n",
    "##### Here's an example of hybrid inheritance:"
   ]
  },
  {
   "cell_type": "code",
   "execution_count": 10,
   "id": "299dfe6f-1ec1-4021-9e74-3c6afef0f5bf",
   "metadata": {},
   "outputs": [
    {
     "name": "stdout",
     "output_type": "stream",
     "text": [
      "Max is eating.\n",
      "Max is playing with John\n",
      "Max is barking.\n"
     ]
    }
   ],
   "source": [
    "class Animal:\n",
    "    def __init__(self, name):\n",
    "        self.name = name\n",
    "\n",
    "    def eat(self):\n",
    "        print(self.name, \"is eating.\")\n",
    "\n",
    "class Pet:\n",
    "    def __init__(self, name, owner):\n",
    "        self.name = name\n",
    "        self.owner = owner\n",
    "\n",
    "    def play(self):\n",
    "        print(self.name, \"is playing with\", self.owner)\n",
    "\n",
    "class Dog(Animal, Pet):\n",
    "    def __init__(self, name, owner, breed):\n",
    "        Animal.__init__(self, name)\n",
    "        Pet.__init__(self, name, owner)\n",
    "        self.breed = breed\n",
    "\n",
    "    def bark(self):\n",
    "        print(self.name, \"is barking.\")\n",
    "\n",
    "d = Dog(\"Max\", \"John\", \"German Shepherd\")\n",
    "d.eat()\n",
    "d.play()\n",
    "d.bark()"
   ]
  },
  {
   "cell_type": "code",
   "execution_count": null,
   "id": "abd636c7-16c5-4f54-b587-38caa4d44e8b",
   "metadata": {},
   "outputs": [],
   "source": []
  }
 ],
 "metadata": {
  "kernelspec": {
   "display_name": "Python 3 (ipykernel)",
   "language": "python",
   "name": "python3"
  },
  "language_info": {
   "codemirror_mode": {
    "name": "ipython",
    "version": 3
   },
   "file_extension": ".py",
   "mimetype": "text/x-python",
   "name": "python",
   "nbconvert_exporter": "python",
   "pygments_lexer": "ipython3",
   "version": "3.10.8"
  }
 },
 "nbformat": 4,
 "nbformat_minor": 5
}
