{
 "cells": [
  {
   "cell_type": "markdown",
   "id": "9df57167-0cde-44d2-ac83-bbdf32522071",
   "metadata": {},
   "source": [
    "#### Q1. You are writing code for a company. The requirement of the company is that you create a python function that will check whether the password entered by the user is correct or not. The function should take the password as input and return the string “Valid Password” if the entered password follows the below-given password guidelines else it should return “Invalid Password”.\n",
    "Note:\n",
    "1. The Password should contain at least two uppercase letters and at least two lowercase letters.\n",
    "2. The Password should contain at least a number and three special characters.\n",
    "3. The length of the password should be 10 characters long."
   ]
  },
  {
   "cell_type": "markdown",
   "id": "5d82ec95-4c5d-4443-a590-c438daf8387c",
   "metadata": {},
   "source": [
    "Ans. "
   ]
  },
  {
   "cell_type": "code",
   "execution_count": 3,
   "id": "6a0d1a4c-e348-41a6-868b-affa9dbd67aa",
   "metadata": {},
   "outputs": [
    {
     "name": "stdin",
     "output_type": "stream",
     "text": [
      "Enter password :  AAvv###100\n"
     ]
    },
    {
     "name": "stdout",
     "output_type": "stream",
     "text": [
      "Valid Password\n"
     ]
    }
   ],
   "source": [
    "pwd = input('Enter password : ')\n",
    "\n",
    "def password(pwd):\n",
    "    upper_count = 0\n",
    "    lower_count = 0\n",
    "    number_count = 0\n",
    "    special_char = 0\n",
    "    for i in pwd:\n",
    "        if i.isupper() == True:\n",
    "            upper_count = upper_count + 1\n",
    "        elif i.islower() == True:\n",
    "            lower_count = lower_count + 1\n",
    "        elif i.isdigit() == True:\n",
    "            number_count = number_count + 1\n",
    "        else :\n",
    "            special_char = special_char + 1\n",
    "    if upper_count >= 2 and lower_count >= 2 and number_count >= 1 and special_char >= 3 and len(pwd) >= 10:\n",
    "        return 'Valid Password'\n",
    "\n",
    "print(password(pwd))"
   ]
  },
  {
   "cell_type": "markdown",
   "id": "a623e657-5fcb-4dc1-a3af-03968e02b5c8",
   "metadata": {},
   "source": [
    "#### Q2. Solve the below-given questions using at least one of the following:\n",
    "1. Lambda function\n",
    "2. Filter function\n",
    "3. Zap function\n",
    "4. List Comprehension\n",
    "\n",
    "- Check if the string starts with a particular letter\n",
    "- Check if the string is numeric\n",
    "- Sort a list of tuples having fruit names and their quantity. [(\"mango\",99),(\"orange\",80), (\"grapes\", 1000)]\n",
    "- Find the squares of numbers from 1 to 10\n",
    "- Find the cube root of numbers from 1 to 10\n",
    "- Check if a given number is even\n",
    "- Filter odd numbers from the given list.\n",
    "\n",
    "[1,2,3,4,5,6,7,8,9,10]\n",
    "\n",
    "- Sort a list of integers into positive and negative integers lists.\n",
    "\n",
    "[1,2,3,4,5,6,-1,-2,-3,-4,-5,0]"
   ]
  },
  {
   "cell_type": "markdown",
   "id": "dccfd34c-12fb-43d6-8df2-0e7cfac98062",
   "metadata": {},
   "source": [
    "##### 1. Check if the string starts with a particular letter using list comprehension:"
   ]
  },
  {
   "cell_type": "code",
   "execution_count": 4,
   "id": "303a50ff-a306-490c-9e3f-22e4b96d97f4",
   "metadata": {},
   "outputs": [
    {
     "name": "stdout",
     "output_type": "stream",
     "text": [
      "['apple']\n"
     ]
    }
   ],
   "source": [
    "strings = ['apple', 'banana', 'orange', 'mango']\n",
    "letter = 'a'\n",
    "result = [s for s in strings if s.startswith(letter)]\n",
    "print(result)"
   ]
  },
  {
   "cell_type": "markdown",
   "id": "ee5524df-4946-43a5-a3cb-9c136fcaf2bf",
   "metadata": {},
   "source": [
    "##### 2. Check if the string is numeric using lambda function and isnumeric() method:"
   ]
  },
  {
   "cell_type": "code",
   "execution_count": 5,
   "id": "1ddb3f51-e1b1-4a9e-9d74-f2a3a80da0e1",
   "metadata": {},
   "outputs": [
    {
     "name": "stdout",
     "output_type": "stream",
     "text": [
      "['123']\n"
     ]
    }
   ],
   "source": [
    "strings = ['123', 'abc', '3.14', '1e3', '-42']\n",
    "result = list(filter(lambda s: s.isnumeric(), strings))\n",
    "print(result)"
   ]
  },
  {
   "cell_type": "markdown",
   "id": "e2540325-5e2c-4093-9d04-702e651b063a",
   "metadata": {},
   "source": [
    "##### 3. Sort a list of tuples having fruit names and their quantity using lambda function:"
   ]
  },
  {
   "cell_type": "code",
   "execution_count": 6,
   "id": "25e0f588-ad16-46ec-b153-b9d0e64ecb5a",
   "metadata": {},
   "outputs": [
    {
     "name": "stdout",
     "output_type": "stream",
     "text": [
      "[('orange', 80), ('mango', 99), ('grapes', 1000)]\n"
     ]
    }
   ],
   "source": [
    "fruits = [(\"mango\",99),(\"orange\",80), (\"grapes\", 1000)]\n",
    "result = sorted(fruits, key=lambda x: x[1])\n",
    "print(result)"
   ]
  },
  {
   "cell_type": "markdown",
   "id": "0790ab99-0aba-4ddd-9e9a-337596be99df",
   "metadata": {},
   "source": [
    "##### 4. Find the squares of numbers from 1 to 10 using list comprehension:"
   ]
  },
  {
   "cell_type": "code",
   "execution_count": 7,
   "id": "6cea44d9-b8c3-4308-ab80-84152c83006f",
   "metadata": {},
   "outputs": [
    {
     "name": "stdout",
     "output_type": "stream",
     "text": [
      "[1, 4, 9, 16, 25, 36, 49, 64, 81, 100]\n"
     ]
    }
   ],
   "source": [
    "result = [x**2 for x in range(1, 11)]\n",
    "print(result)"
   ]
  },
  {
   "cell_type": "markdown",
   "id": "35e54eb8-99a7-4e68-8538-ab80d739d387",
   "metadata": {},
   "source": [
    "##### 5. Find the cube root of numbers from 1 to 10 using map function and lambda function:"
   ]
  },
  {
   "cell_type": "code",
   "execution_count": 8,
   "id": "f5508976-6dc8-4504-ae05-68e4f2a412e8",
   "metadata": {},
   "outputs": [
    {
     "name": "stdout",
     "output_type": "stream",
     "text": [
      "[1.0, 1.2599210498948732, 1.4422495703074083, 1.5874010519681994, 1.7099759466766968, 1.8171205928321397, 1.912931182772389, 2.0, 2.080083823051904, 2.154434690031884]\n"
     ]
    }
   ],
   "source": [
    "result = list(map(lambda x: x**(1/3), range(1, 11)))\n",
    "print(result)"
   ]
  },
  {
   "cell_type": "markdown",
   "id": "ea6c63e7-54a4-47fe-8ecd-ff5ac57f753f",
   "metadata": {},
   "source": [
    "##### 6. Check if a given number is even using lambda function:"
   ]
  },
  {
   "cell_type": "code",
   "execution_count": 9,
   "id": "0c3531be-208b-4ebf-8a01-5040cfe49e48",
   "metadata": {},
   "outputs": [
    {
     "name": "stdout",
     "output_type": "stream",
     "text": [
      "True\n"
     ]
    }
   ],
   "source": [
    "is_even = lambda x: x % 2 == 0\n",
    "result = is_even(42)\n",
    "print(result)"
   ]
  },
  {
   "cell_type": "markdown",
   "id": "af5f8ee8-5f5a-4ab6-8081-7ea4495a955f",
   "metadata": {},
   "source": [
    "##### 7. Filter odd numbers from the given list [1,2,3,4,5,6,7,8,9,10] using filter function and lambda function:"
   ]
  },
  {
   "cell_type": "code",
   "execution_count": 10,
   "id": "94491564-5464-4053-909a-360bc26a1873",
   "metadata": {},
   "outputs": [
    {
     "name": "stdout",
     "output_type": "stream",
     "text": [
      "[1, 3, 5, 7, 9]\n"
     ]
    }
   ],
   "source": [
    "numbers = [1,2,3,4,5,6,7,8,9,10]\n",
    "result = list(filter(lambda x: x % 2 != 0, numbers))\n",
    "print(result)"
   ]
  },
  {
   "cell_type": "markdown",
   "id": "00d352ab-d9c7-452e-bb7b-c27c50fed835",
   "metadata": {},
   "source": [
    "##### 8. Sort a list of integers into positive and negative integers lists using filter function and lambda function:"
   ]
  },
  {
   "cell_type": "code",
   "execution_count": 12,
   "id": "d5970265-aedc-4a20-8a72-45f5dbce5699",
   "metadata": {},
   "outputs": [
    {
     "name": "stdout",
     "output_type": "stream",
     "text": [
      "([1, 2, 3, 4, 5, 6], [-1, -2, -3, -4, -5])\n"
     ]
    }
   ],
   "source": [
    "numbers = [1,2,3,4,5,6,-1,-2,-3,-4,-5,0]\n",
    "positive = list(filter(lambda x: x > 0, numbers))\n",
    "negative = list(filter(lambda x: x < 0, numbers))\n",
    "result = (positive, negative)\n",
    "print(result)"
   ]
  },
  {
   "cell_type": "code",
   "execution_count": null,
   "id": "f876d84d-1bb4-48bb-bd33-389b41197d8a",
   "metadata": {},
   "outputs": [],
   "source": []
  }
 ],
 "metadata": {
  "kernelspec": {
   "display_name": "Python 3 (ipykernel)",
   "language": "python",
   "name": "python3"
  },
  "language_info": {
   "codemirror_mode": {
    "name": "ipython",
    "version": 3
   },
   "file_extension": ".py",
   "mimetype": "text/x-python",
   "name": "python",
   "nbconvert_exporter": "python",
   "pygments_lexer": "ipython3",
   "version": "3.10.8"
  }
 },
 "nbformat": 4,
 "nbformat_minor": 5
}
