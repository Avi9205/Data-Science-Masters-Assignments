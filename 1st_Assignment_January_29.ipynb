{
 "cells": [
  {
   "cell_type": "markdown",
   "id": "7ca9e711-34fa-49ed-b114-501e64518be4",
   "metadata": {},
   "source": [
    "# 29th Jan Python Assignment"
   ]
  },
  {
   "cell_type": "code",
   "execution_count": null,
   "id": "0f83ec3e-bfd4-4acf-bdfc-6e915fcdb725",
   "metadata": {},
   "outputs": [],
   "source": []
  },
  {
   "cell_type": "markdown",
   "id": "11020531-45be-4b11-8648-d79db2e21bc5",
   "metadata": {},
   "source": [
    "##### Q1. Who developed Python Programming Language?\n",
    "Ans. Guido Van Rossum"
   ]
  },
  {
   "cell_type": "markdown",
   "id": "a5ad8184-9202-487f-9200-0dda787d5325",
   "metadata": {},
   "source": [
    "##### Q2. Which type of Programming does Python support?\n",
    "Ans. Python is an interpreted programming language, supporting object-oriented, structured, and functional programming."
   ]
  },
  {
   "cell_type": "markdown",
   "id": "87790ae9-77d6-4a5a-8e9c-a5b13ae99754",
   "metadata": {},
   "source": [
    "##### Q3. Is Python case sensitive when dealing with identifiers?\n",
    "Ans. Yes, Python is a case-sensitive language."
   ]
  },
  {
   "cell_type": "markdown",
   "id": "e025284a-89f2-41d0-b0d6-310a6e2b77f0",
   "metadata": {},
   "source": [
    "##### Q4. What is the correct extension of the Python file?\n",
    "Ans. .py extension"
   ]
  },
  {
   "cell_type": "markdown",
   "id": "a8da790e-4988-4f77-b443-977354941775",
   "metadata": {},
   "source": [
    "##### Q5. Is Python code compiled or interpreted?\n",
    "A. Python is an interpreted language."
   ]
  },
  {
   "cell_type": "markdown",
   "id": "75cbfde4-c71e-4d1a-8e00-3fb67b9c08e2",
   "metadata": {},
   "source": [
    "##### Q6. Name a few blocks of code used to define in Python language?\n",
    "Ans. Module, Function, Class"
   ]
  },
  {
   "cell_type": "markdown",
   "id": "ea764329-27de-40da-bbb9-e3672972a3ac",
   "metadata": {},
   "source": [
    "##### Q7. State a character used to give single-line comments in Python?\n",
    "Ans. Single # character"
   ]
  },
  {
   "cell_type": "markdown",
   "id": "52800658-20dd-4a4d-8b39-9ba45a4b8f50",
   "metadata": {},
   "source": [
    "##### Q8. Mention functions which can help us to find the version of python that we are currently working on?\n",
    "Ans. Sys.version"
   ]
  },
  {
   "cell_type": "markdown",
   "id": "26b9d5e5-ece2-4a2b-812f-19d1ed728813",
   "metadata": {},
   "source": [
    "##### Q9. Python supports the creation of anonymous functions at runtime, using a construct called _________?\n",
    "Ans. Python supports the creation of anonymous functions at runtime using a construct called (lambda) Lambda Function."
   ]
  },
  {
   "cell_type": "markdown",
   "id": "08131fa0-20fc-4454-afe8-def29c09a7ef",
   "metadata": {},
   "source": [
    "##### Q10. What does pip stand for python?\n",
    "Ans. Preferred Installer Program"
   ]
  },
  {
   "cell_type": "markdown",
   "id": "6712cc92-f1db-4f04-a890-c190eb9ea78a",
   "metadata": {},
   "source": [
    "##### Q11. Mention a few built-in functions in python?\n",
    "Ans. There are lots of built-in functions in Python such as print(), help(), input(), type(), len(), bool(), str(), int()"
   ]
  },
  {
   "cell_type": "markdown",
   "id": "eb9a3f9c-3d7a-4128-96d5-d61cc7a07a84",
   "metadata": {},
   "source": [
    "##### Q12. What is the maximum possible length of an identifier in Python?\n",
    "Ans. 79 Characters"
   ]
  },
  {
   "cell_type": "markdown",
   "id": "1e64141d-530c-4f64-906b-a093e6b07a29",
   "metadata": {},
   "source": [
    "##### Q13. What are the benefits of using Python?\n",
    "Ans. Below listed are some of the benefits of Python Programming Language:\n",
    "- Fastest-Growing Programming Language: Python programming has become one of the fastest growing programming languages in the world. Python language is used by almost all tech-giant companies like Google, Amazon, Facebook, Instagram, Uber.\n",
    "\n",
    "- Python is Beginner Friendly: Python supports english syntax and is designed to be concise and easy to read. All of which makes it more accessible to first-time coders. It is an Interpreted programming language which means that you can run each line of code once you have finished writing it allows you to implement, check it and make adjustments if needed.\n",
    "\n",
    "- Python is Versatile: Python is a totally versatile language as it has been used widely in Artificial Intelligence, Machine Learning, Data Science, Web Development, embedded systems, Graphic Design applications, Big Data , Data mining, Gaming and more.\n",
    "\n",
    "- Python is High in Demand: As Python is getting more popular along with an increase in an active community and its function, the demand for python professionals is also increasing."
   ]
  },
  {
   "cell_type": "markdown",
   "id": "767b6dcd-baf3-432c-93d7-e3998386bb51",
   "metadata": {},
   "source": [
    "##### Q14. How is memory managed in Python?\n",
    "Ans. Memory management in Python involves a private heap containing all Python objects and data structures. The management of this private heap is ensured internally by the Python memory manager."
   ]
  },
  {
   "cell_type": "markdown",
   "id": "ada6baf6-6197-4ffb-89fc-7fefc14d6792",
   "metadata": {},
   "source": [
    "##### Q15. How to install Python on Windows and set path variables?\n",
    "Ans. Steps mentioned below:\n",
    "- Visit www.python.org and download any version of your choice. Double click on the download file and simply install python.\n",
    "\n",
    "- Right-click This PC and go to Properties.\n",
    "\n",
    "- Click on the Advanced system settings in the menu on the left.\n",
    "\n",
    "- Click on the Environment Variables button on the bottom right.\n",
    "\n",
    "- In the System variables section, select the Path variable and click on Edit. The next screen will show all the directories that are currently a part of the PATH variable.\n",
    "\n",
    "- Click on New and enter Python’s install directory."
   ]
  },
  {
   "cell_type": "markdown",
   "id": "46fdf84b-24fb-4c25-8e3d-93403c677a59",
   "metadata": {},
   "source": [
    "##### Q16. Is indentation required in python?\n",
    "Ans. The indentation in Python is very important. Python uses indentation to indicate a block of code."
   ]
  },
  {
   "cell_type": "markdown",
   "id": "cae01c6d-6c0a-46ea-bc19-d6aa03232566",
   "metadata": {},
   "source": []
  }
 ],
 "metadata": {
  "kernelspec": {
   "display_name": "Python 3 (ipykernel)",
   "language": "python",
   "name": "python3"
  },
  "language_info": {
   "codemirror_mode": {
    "name": "ipython",
    "version": 3
   },
   "file_extension": ".py",
   "mimetype": "text/x-python",
   "name": "python",
   "nbconvert_exporter": "python",
   "pygments_lexer": "ipython3",
   "version": "3.10.8"
  }
 },
 "nbformat": 4,
 "nbformat_minor": 5
}
