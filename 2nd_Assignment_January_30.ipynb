{
 "cells": [
  {
   "cell_type": "markdown",
   "id": "1ca3c032-0461-4091-8b42-ebd3c6d95464",
   "metadata": {},
   "source": [
    "#### Q1.  Write a program to accept percentage from the user and display the grade according to the following criteria:"
   ]
  },
  {
   "cell_type": "code",
   "execution_count": 2,
   "id": "b1228352-7769-4ff7-8a60-4877ada7041f",
   "metadata": {},
   "outputs": [
    {
     "name": "stdin",
     "output_type": "stream",
     "text": [
      "Enter Your Percentage 70\n"
     ]
    },
    {
     "name": "stdout",
     "output_type": "stream",
     "text": [
      "Grade C\n"
     ]
    }
   ],
   "source": [
    "percentage = int(input(\"Enter Your Percentage\"))\n",
    "if percentage > 90:\n",
    "    print(\"Grade A\")\n",
    "elif percentage >80 and percentage <=90:\n",
    "    print(\"Grade B\")\n",
    "elif percentage >=60 and percentage <=80:\n",
    "    print(\"Grade C\")\n",
    "else:\n",
    "    print(\"Grade D\")"
   ]
  },
  {
   "cell_type": "markdown",
   "id": "41c66643-33c5-436c-b7c1-6f1bc72d0f44",
   "metadata": {},
   "source": [
    "#### Q2. Write a program to accept the cost price of a bike and display the road tax to be paid according to the following criteria:"
   ]
  },
  {
   "cell_type": "code",
   "execution_count": 6,
   "id": "de0a0117-e450-4a8d-9f8b-85b32501b48a",
   "metadata": {},
   "outputs": [
    {
     "name": "stdin",
     "output_type": "stream",
     "text": [
      "Enter The Cost Of Your Bike:  50000\n"
     ]
    },
    {
     "name": "stdout",
     "output_type": "stream",
     "text": [
      "You Have To Pay 5% Tax\n"
     ]
    }
   ],
   "source": [
    "cost = int(input(\"Enter The Cost Of Your Bike: \"))\n",
    "if cost > 100000:\n",
    "    print(\"You Have To Pay 15% Tax\")\n",
    "elif cost >50000 and cost <= 100000:\n",
    "    print(\"You Have To Pay 10% Tax\")\n",
    "else:\n",
    "    print(\"You Have To Pay 5% Tax\")"
   ]
  },
  {
   "cell_type": "markdown",
   "id": "8c7ff757-f434-428d-a6f8-ad152b4a13eb",
   "metadata": {},
   "source": [
    "#### Q3. Accept any city from the user and display monuments of that city."
   ]
  },
  {
   "cell_type": "code",
   "execution_count": 11,
   "id": "9812d593-f2cd-4b1d-af92-5221299b90a3",
   "metadata": {},
   "outputs": [
    {
     "name": "stdin",
     "output_type": "stream",
     "text": [
      "Enter Your City From Delhi, Agra or Jaipur And Get Your City's Monument:  Delhi\n"
     ]
    },
    {
     "name": "stdout",
     "output_type": "stream",
     "text": [
      "Red Fort\n"
     ]
    }
   ],
   "source": [
    "city = input(\"Enter Your City From Delhi, Agra or Jaipur And Get Your City's Monument: \")\n",
    "\n",
    "if city == \"Delhi\":\n",
    "    print(\"Red Fort\")\n",
    "elif city == \"Agra\":\n",
    "    print(\"Taj Mahal\")\n",
    "elif city == \"Jaipur\":\n",
    "    print(\"Jal Mahal\")\n",
    "else:\n",
    "    print(\"You Have Not Entered City From The List Given.\")"
   ]
  },
  {
   "cell_type": "markdown",
   "id": "593d63ce-8162-46a9-8180-9c7708553d8a",
   "metadata": {},
   "source": [
    "#### Q4. Check how many times a given number can be divided by 3 before it is less than or equal to 10"
   ]
  },
  {
   "cell_type": "code",
   "execution_count": 12,
   "id": "68ffe1c5-74b9-4665-9785-3a5bcccb78cb",
   "metadata": {},
   "outputs": [
    {
     "name": "stdin",
     "output_type": "stream",
     "text": [
      "Enter A Number Greater Than 10:  11\n"
     ]
    },
    {
     "name": "stdout",
     "output_type": "stream",
     "text": [
      "0\n"
     ]
    }
   ],
   "source": [
    "n=int(input(\"Enter A Number Greater Than 10: \"))\n",
    "count=0\n",
    "while n>=10:\n",
    "    if n%3==0:\n",
    "        count=count+1\n",
    "    n=n-1\n",
    "print(count)"
   ]
  },
  {
   "cell_type": "markdown",
   "id": "ac5f4c6f-279f-4731-9c99-d5aca52d32cc",
   "metadata": {},
   "source": [
    "#### Q5. Why and When to Use while Loop in Python give a detailed description with example.\n",
    "\n",
    "A while loop can be used when the code requires a certain condition to meet. If the condition is True, the code written will work fine but it will keep running continuously. If the code is not written well to somehow end the condition, which means when the condition is not met and it is False, the loop will stop.\n",
    "\n",
    "Below is the example of a while loop that calculates the sum of numbers, until user finally enters 0."
   ]
  },
  {
   "cell_type": "code",
   "execution_count": 15,
   "id": "db969d5f-975f-49cd-bf28-17ae83b2f900",
   "metadata": {},
   "outputs": [
    {
     "name": "stdin",
     "output_type": "stream",
     "text": [
      "Enter a number:  5\n",
      "Enter a number:  2\n",
      "Enter a number:  8\n",
      "Enter a number:  0\n"
     ]
    },
    {
     "name": "stdout",
     "output_type": "stream",
     "text": [
      "Total = 15\n"
     ]
    }
   ],
   "source": [
    "# program to calculate the sum of numbers until the user enters zero\n",
    "\n",
    "total = 0\n",
    "number = int(input(\"Enter a number: \"))\n",
    "\n",
    "while number != 0:\n",
    "    total = total + number    \n",
    "    number = int(input(\"Enter a number: \"))\n",
    "\n",
    "print(\"Total =\", total)"
   ]
  },
  {
   "cell_type": "markdown",
   "id": "f2ed7311-d809-4acc-9110-e03c1e4f5af4",
   "metadata": {},
   "source": [
    "#### Q6. Use nested while loop to print 3 different pattern."
   ]
  },
  {
   "cell_type": "code",
   "execution_count": 16,
   "id": "413c2220-5680-4fca-b02a-64c0200d51cb",
   "metadata": {},
   "outputs": [
    {
     "name": "stdout",
     "output_type": "stream",
     "text": [
      "* * * * * * \n",
      "* * * * * * \n",
      "* * * * * * \n",
      "* * * * * * \n",
      "* * * * * * \n"
     ]
    }
   ],
   "source": [
    "i=1\n",
    "while i<=5:\n",
    "    i+=1\n",
    "    j=0\n",
    "    while j<=5:\n",
    "        print(\"*\",end=\" \")\n",
    "        j+=1\n",
    "    print()"
   ]
  },
  {
   "cell_type": "code",
   "execution_count": 17,
   "id": "4ef106d6-70e8-4eb6-98fd-fbce9d498119",
   "metadata": {},
   "outputs": [
    {
     "name": "stdout",
     "output_type": "stream",
     "text": [
      "* \n",
      "* * \n",
      "* * * \n",
      "* * * * \n",
      "* * * * * \n"
     ]
    }
   ],
   "source": [
    "# right angle triangle\n",
    "\n",
    "i = 1\n",
    "while i <= 5:\n",
    "    j = 1\n",
    "    while j <= i:\n",
    "        print(\"* \", end=\"\")\n",
    "        j += 1\n",
    "    print(\"\")\n",
    "    i += 1"
   ]
  },
  {
   "cell_type": "code",
   "execution_count": 18,
   "id": "1fe292c2-9bda-4b1b-ad5e-a7a4631a14ed",
   "metadata": {},
   "outputs": [
    {
     "name": "stdout",
     "output_type": "stream",
     "text": [
      "* * * * * \n",
      "  * * * * \n",
      "    * * * \n",
      "      * * \n",
      "        * \n"
     ]
    }
   ],
   "source": [
    "# inverse right angle triangle\n",
    "\n",
    "rows = 5\n",
    "i = rows\n",
    "while i >= 1:\n",
    "    j = rows\n",
    "    while j > i:\n",
    "        # display space\n",
    "        print(' ', end=' ')\n",
    "        j -= 1\n",
    "    k = 1\n",
    "    while k <= i:\n",
    "        print('*', end=' ')\n",
    "        k += 1\n",
    "    print()\n",
    "    i -= 1"
   ]
  },
  {
   "cell_type": "markdown",
   "id": "ee2d9df3-45ed-43fa-aa95-22666d64da21",
   "metadata": {},
   "source": [
    "#### Q7. Reverse a while loop to display numbers from 10 to 1."
   ]
  },
  {
   "cell_type": "code",
   "execution_count": 19,
   "id": "71fc64bd-bfac-4e4e-a27c-6351835bfce7",
   "metadata": {},
   "outputs": [
    {
     "name": "stdout",
     "output_type": "stream",
     "text": [
      "10\n",
      "9\n",
      "8\n",
      "7\n",
      "6\n",
      "5\n",
      "4\n",
      "3\n",
      "2\n",
      "1\n"
     ]
    }
   ],
   "source": [
    "n=10\n",
    "\n",
    "while n!=0:\n",
    "    print(n)\n",
    "    n=n-1"
   ]
  },
  {
   "cell_type": "markdown",
   "id": "69e3df9e-74bc-4d02-b5a4-f8e548bb3889",
   "metadata": {},
   "source": [
    "#### Q8. Reverse a while loop to display numbers from 10 to 1."
   ]
  },
  {
   "cell_type": "code",
   "execution_count": 20,
   "id": "9f79ffc9-88cb-43be-b1e6-fdaba147a9f7",
   "metadata": {},
   "outputs": [
    {
     "name": "stdout",
     "output_type": "stream",
     "text": [
      "10\n",
      "9\n",
      "8\n",
      "7\n",
      "6\n",
      "5\n",
      "4\n",
      "3\n",
      "2\n",
      "1\n"
     ]
    }
   ],
   "source": [
    "n=10\n",
    "\n",
    "while n!=0:\n",
    "    print(n)\n",
    "    n=n-1"
   ]
  },
  {
   "cell_type": "markdown",
   "id": "95e98bf2-67ac-433d-a418-3cd5f4336a85",
   "metadata": {},
   "source": []
  }
 ],
 "metadata": {
  "kernelspec": {
   "display_name": "Python 3 (ipykernel)",
   "language": "python",
   "name": "python3"
  },
  "language_info": {
   "codemirror_mode": {
    "name": "ipython",
    "version": 3
   },
   "file_extension": ".py",
   "mimetype": "text/x-python",
   "name": "python",
   "nbconvert_exporter": "python",
   "pygments_lexer": "ipython3",
   "version": "3.10.8"
  }
 },
 "nbformat": 4,
 "nbformat_minor": 5
}
